{
 "cells": [
  {
   "cell_type": "markdown",
   "metadata": {},
   "source": [
    "### Student Information\n",
    "Name: 金藜軒\n",
    "\n",
    "Student ID: 109065701\n",
    "\n",
    "GitHub ID: alalachin\n",
    "\n",
    "Kaggle name: Li-Hsuan Chin\n",
    "\n",
    "Kaggle private scoreboard snapshot: \n",
    "\n",
    "![Snapshot](img/pic0.png)"
   ]
  },
  {
   "cell_type": "markdown",
   "metadata": {},
   "source": [
    "---"
   ]
  },
  {
   "cell_type": "markdown",
   "metadata": {},
   "source": [
    "### Instructions"
   ]
  },
  {
   "cell_type": "markdown",
   "metadata": {},
   "source": [
    "1. First: __This part is worth 30% of your grade.__ Do the **take home** exercises in the [DM2021-Lab2-master Repo](https://github.com/fhcalderon87/DM2021-Lab2-master). You may need to copy some cells from the Lab notebook to this notebook. \n",
    "\n",
    "\n",
    "2. Second: __This part is worth 30% of your grade.__ Participate in the in-class [Kaggle Competition](https://www.kaggle.com/c/dm2021-lab2-hw2/) regarding Emotion Recognition on Twitter. The scoring will be given according to your place in the Private Leaderboard ranking: \n",
    "    - **Bottom 40%**: Get 20% of the 30% available for this section.\n",
    "\n",
    "    - **Top 41% - 100%**: Get (60-x)/6 + 20 points, where x is your ranking in the leaderboard (ie. If you rank 3rd your score will be (60-3)/6 + 20 = 29.5% out of 30%)   \n",
    "    Submit your last submission __BEFORE the deadline (Dec. 24th 11:59 pm, Friday)__. Make sure to take a screenshot of your position at the end of the competition and store it as '''pic0.png''' under the **img** folder of this repository and rerun the cell **Student Information**.\n",
    "    \n",
    "\n",
    "3. Third: __This part is worth 30% of your grade.__ A report of your work developping the model for the competition (You can use code and comment it). This report should include what your preprocessing steps, the feature engineering steps and an explanation of your model. You can also mention different things you tried and insights you gained. \n",
    "\n",
    "\n",
    "4. Fourth: __This part is worth 10% of your grade.__ It's hard for us to follow if your code is messy :'(, so please **tidy up your notebook** and **add minimal comments where needed**.\n",
    "\n",
    "\n",
    "Upload your files to your repository then submit the link to it on the corresponding e-learn assignment.\n",
    "\n",
    "Make sure to commit and save your changes to your repository __BEFORE the deadline (Dec. 29th 11:59 pm, Wednesday)__. "
   ]
  },
  {
   "cell_type": "code",
   "execution_count": 62,
   "metadata": {},
   "outputs": [
    {
     "data": {
      "text/plain": [
       "28.166666666666664"
      ]
     },
     "execution_count": 62,
     "metadata": {},
     "output_type": "execute_result"
    }
   ],
   "source": [
    "### Begin Assignment Here\n",
    "49/6 + 20"
   ]
  },
  {
   "cell_type": "markdown",
   "metadata": {},
   "source": [
    "# First Part"
   ]
  },
  {
   "cell_type": "markdown",
   "metadata": {},
   "source": [
    "## >>> Exercise 1\n",
    "Plot word frequency for Top 30 words in both train and test dataset. (Hint: refer to DM lab 1)"
   ]
  },
  {
   "cell_type": "code",
   "execution_count": 1,
   "metadata": {
    "scrolled": true
   },
   "outputs": [
    {
     "name": "stdout",
     "output_type": "stream",
     "text": [
      "Shape of Training df:  (3613, 4)\n",
      "Shape of Testing df:  (347, 4)\n"
     ]
    },
    {
     "data": {
      "image/png": "[encoded data removed]",
      "text/plain": [
       "<Figure size 1080x288 with 1 Axes>"
      ]
     },
     "metadata": {
      "needs_background": "light"
     },
     "output_type": "display_data"
    },
    {
     "data": {
      "image/png": "[encoded data removed]",
      "text/plain": [
       "<Figure size 1080x288 with 1 Axes>"
      ]
     },
     "metadata": {
      "needs_background": "light"
     },
     "output_type": "display_data"
    }
   ],
   "source": [
    "import pandas as pd\n",
    "\n",
    "### training data\n",
    "anger_train = pd.read_csv(\"data/semeval/train/anger-ratings-0to1.train.txt\",\n",
    "                         sep=\"\\t\", header=None,names=[\"id\", \"text\", \"emotion\", \"intensity\"])\n",
    "sadness_train = pd.read_csv(\"data/semeval/train/sadness-ratings-0to1.train.txt\",\n",
    "                         sep=\"\\t\", header=None, names=[\"id\", \"text\", \"emotion\", \"intensity\"])\n",
    "fear_train = pd.read_csv(\"data/semeval/train/fear-ratings-0to1.train.txt\",\n",
    "                         sep=\"\\t\", header=None, names=[\"id\", \"text\", \"emotion\", \"intensity\"])\n",
    "joy_train = pd.read_csv(\"data/semeval/train/joy-ratings-0to1.train.txt\",\n",
    "                         sep=\"\\t\", header=None, names=[\"id\", \"text\", \"emotion\", \"intensity\"])\n",
    "\n",
    "# combine 4 sub-dataset\n",
    "train_df = pd.concat([anger_train, fear_train, joy_train, sadness_train], ignore_index=True)\n",
    "\n",
    "\n",
    "### testing data\n",
    "anger_test = pd.read_csv(\"data/semeval/dev/anger-ratings-0to1.dev.gold.txt\",\n",
    "                         sep=\"\\t\", header=None, names=[\"id\", \"text\", \"emotion\", \"intensity\"])\n",
    "sadness_test = pd.read_csv(\"data/semeval/dev/sadness-ratings-0to1.dev.gold.txt\",\n",
    "                         sep=\"\\t\", header=None, names=[\"id\", \"text\", \"emotion\", \"intensity\"])\n",
    "fear_test = pd.read_csv(\"data/semeval/dev/fear-ratings-0to1.dev.gold.txt\",\n",
    "                         sep=\"\\t\", header=None, names=[\"id\", \"text\", \"emotion\", \"intensity\"])\n",
    "joy_test = pd.read_csv(\"data/semeval/dev/joy-ratings-0to1.dev.gold.txt\",\n",
    "                         sep=\"\\t\", header=None, names=[\"id\", \"text\", \"emotion\", \"intensity\"])\n",
    "\n",
    "# combine 4 sub-dataset\n",
    "test_df = pd.concat([anger_test, fear_test, joy_test, sadness_test], ignore_index=True)\n",
    "\n",
    "\n",
    "# shuffle dataset\n",
    "train_df = train_df.sample(frac=1)\n",
    "test_df = test_df.sample(frac=1)\n",
    "print(\"Shape of Training df: \", train_df.shape)\n",
    "print(\"Shape of Testing df: \", test_df.shape)\n",
    "\n",
    "\n",
    "# Answer here\n",
    "import numpy as np\n",
    "import matplotlib.pyplot as plt\n",
    "import nltk\n",
    "from nltk.tokenize import word_tokenize, RegexpTokenizer\n",
    "# nltk.download('punkt')\n",
    "\n",
    "\n",
    "def count_word_freq(df):\n",
    "    word_dict = {}\n",
    "    tokenizer = RegexpTokenizer(\"\\w+[\\.|\\']\\w+|\\w+|\\#\\w+|\\@\\w+|\\u2764|[\\U0001F600-\\U0001F64F]|[\\U0001F300-\\U0001F5FF]|[\\U0001F680-\\U0001F6FF]|[\\U0001F1E0-\\U0001F1FF]\")\n",
    "    for _, row in df.iterrows():\n",
    "        text = row.text\n",
    "        text = text.replace('\\\\n', ' ').replace('&amp', \" \")\n",
    "        text = tokenizer.tokenize(text)\n",
    "        for t in text:\n",
    "            if t not in word_dict:\n",
    "                word_dict[t]=0\n",
    "            word_dict[t] += 1\n",
    "    word_dict = dict(sorted(word_dict.items(), key=lambda item: item[1], reverse=1))\n",
    "    return word_dict\n",
    "\n",
    "\n",
    "def plot_word_freq(freq_dict, name):\n",
    "    width = 0.6\n",
    "    plt.figure(figsize=(15,4))\n",
    "    plt.bar(list(freq_dict.keys())[:30], list(freq_dict.values())[:30], width, color=\"pink\")\n",
    "    plt.xlabel('Word')\n",
    "    plt.ylabel('Frequency')\n",
    "    plt.title(\"Top Word Frequency in {}ing Data\".format(name))\n",
    "    plt.show()\n",
    "\n",
    "\n",
    "train_freq = count_word_freq(train_df)\n",
    "test_freq = count_word_freq(test_df)\n",
    "\n",
    "plot_word_freq(train_freq, \"Train\")\n",
    "plot_word_freq(test_freq, \"Test\")\n"
   ]
  },
  {
   "cell_type": "markdown",
   "metadata": {},
   "source": [
    "---\n",
    "## >>> Exercise 2\n",
    "Generate an embedding using the TF-IDF vectorizer instead of th BOW one with 1000 features and show the feature names for features [100:110]."
   ]
  },
  {
   "cell_type": "code",
   "execution_count": 2,
   "metadata": {},
   "outputs": [
    {
     "name": "stderr",
     "output_type": "stream",
     "text": [
      "/home/lihsuan/.local/lib/python3.6/site-packages/sklearn/feature_extraction/text.py:489: UserWarning: The parameter 'token_pattern' will not be used since 'tokenizer' is not None'\n",
      "  warnings.warn(\"The parameter 'token_pattern' will not be used\"\n"
     ]
    },
    {
     "data": {
      "text/plain": [
       "['b', 'baby', 'back', 'bad', 'ball', 'balls', 'bb18', 'bc', 'bday', 'be']"
      ]
     },
     "execution_count": 2,
     "metadata": {},
     "output_type": "execute_result"
    }
   ],
   "source": [
    "from sklearn.feature_extraction.text import TfidfVectorizer\n",
    "\n",
    "# build analyzers (TF-IDF)\n",
    "tf_idf = TfidfVectorizer(max_features=1000, tokenizer=nltk.word_tokenize)\n",
    "\n",
    "# apply analyzer to training data\n",
    "tf_idf.fit(train_df['text'])\n",
    "\n",
    "# check dimension\n",
    "feature_names_1000 = tf_idf.get_feature_names()\n",
    "feature_names_1000[100:110]"
   ]
  },
  {
   "cell_type": "markdown",
   "metadata": {},
   "source": [
    "---\n",
    "## >>> Exercise 3\n",
    "Can you interpret the results above? What do they mean?"
   ]
  },
  {
   "cell_type": "markdown",
   "metadata": {},
   "source": [
    "_## Answer here\n",
    "\n",
    "'''\n",
    "According to the plot for confusion matrix, \n",
    "by observing vertically, \n",
    "    \n",
    "    1-1: Tweets of \"anger\" emotions are more likely to be mispredicted as \"fear\" than other emotions.\n",
    "    1-2: Tweets of \"sadness\" emotions are more likely to be mispredicted as \"fear\" than other emotions.\n",
    "    --> The above results make sense, because for \"anger\" and \"sadness\", there's usually \"fear\" in it.\n",
    "    \n",
    "    2: Tweets of \"joy\" emotions predicted as other emotions are of the same number, each are not high.\n",
    "    --> \"Joy\", however, is the only positive emotion in the dataset, it's less likely to be predicted as one specific negative emotion.\n",
    "    --> How ever there are still wrong predictions, I think those articles might:\n",
    "        a. has lower arousal\n",
    "        b. use ambiguous way to convey the joy, ex:\n",
    "            sadness: \"Thank you so much 😭😭😭\"\n",
    "            anger: \"This chick is hot as fuck\"\n",
    "            fear: \"Omg did i just got the offer from Google?\"\n",
    "'''"
   ]
  },
  {
   "cell_type": "markdown",
   "metadata": {},
   "source": [
    "---\n",
    "## >>> Exercise 4 \n",
    "Build a model using a ```Naive Bayes``` model and train it. What are the testing results? "
   ]
  },
  {
   "cell_type": "code",
   "execution_count": 3,
   "metadata": {},
   "outputs": [
    {
     "name": "stdout",
     "output_type": "stream",
     "text": [
      "X_train.shape:  (3613, 500)\n",
      "y_train.shape:  (3613,)\n",
      "X_test.shape:  (347, 500)\n",
      "y_test.shape:  (347,)\n"
     ]
    }
   ],
   "source": [
    "from sklearn.feature_extraction.text import CountVectorizer\n",
    "from sklearn.tree import DecisionTreeClassifier\n",
    "from sklearn.naive_bayes import MultinomialNB\n",
    "from sklearn.metrics import accuracy_score\n",
    "from sklearn.metrics import classification_report\n",
    "import nltk\n",
    "\n",
    "\n",
    "# build analyzers (bag-of-words)\n",
    "BOW_vectorizer = CountVectorizer() \n",
    "\n",
    "# 1. Learn a vocabulary dictionary of all tokens in the raw documents.\n",
    "BOW_vectorizer.fit(train_df['text'])\n",
    "\n",
    "# 2. Transform documents to document-term matrix.\n",
    "train_data_BOW_features = BOW_vectorizer.transform(train_df['text'])\n",
    "test_data_BOW_features = BOW_vectorizer.transform(test_df['text'])\n",
    "\n",
    "# build analyzers (bag-of-words)\n",
    "BOW_500 = CountVectorizer(max_features=500, tokenizer=nltk.word_tokenize) \n",
    "\n",
    "# apply analyzer to training data\n",
    "BOW_500.fit(train_df['text'])\n",
    "\n",
    "# training & testing data\n",
    "X_train = BOW_500.transform(train_df['text'])\n",
    "y_train = train_df['emotion']\n",
    "X_test = BOW_500.transform(test_df['text'])\n",
    "y_test = test_df['emotion']\n",
    "\n",
    "\n",
    "# take a look at data dimension is a good habbit  :)\n",
    "print('X_train.shape: ', X_train.shape)\n",
    "print('y_train.shape: ', y_train.shape)\n",
    "print('X_test.shape: ', X_test.shape)\n",
    "print('y_test.shape: ', y_test.shape)"
   ]
  },
  {
   "cell_type": "code",
   "execution_count": 4,
   "metadata": {},
   "outputs": [
    {
     "name": "stdout",
     "output_type": "stream",
     "text": [
      "Decision Tree\n",
      "    training accuracy from Decision Tree: 0.99\n",
      "    testing accuracy from Decision Tree: 0.66\n",
      "\n",
      "              precision    recall  f1-score   support\n",
      "\n",
      "       anger       0.64      0.69      0.67        84\n",
      "        fear       0.65      0.67      0.66       110\n",
      "         joy       0.68      0.66      0.67        79\n",
      "     sadness       0.66      0.59      0.62        74\n",
      "\n",
      "    accuracy                           0.66       347\n",
      "   macro avg       0.66      0.65      0.66       347\n",
      "weighted avg       0.66      0.66      0.66       347\n",
      "\n",
      "Naive Bayes (Answer for this execise)\n",
      "    training accuracy from Naive Bayes: 0.79\n",
      "    testing accuracy from Naive Bayes: 0.7\n",
      "\n",
      "              precision    recall  f1-score   support\n",
      "\n",
      "       anger       0.64      0.67      0.65        84\n",
      "        fear       0.73      0.77      0.75       110\n",
      "         joy       0.77      0.70      0.73        79\n",
      "     sadness       0.64      0.62      0.63        74\n",
      "\n",
      "    accuracy                           0.70       347\n",
      "   macro avg       0.70      0.69      0.69       347\n",
      "weighted avg       0.70      0.70      0.70       347\n",
      "\n"
     ]
    }
   ],
   "source": [
    "########## Decision Tree ########## \n",
    "\n",
    "## build DecisionTree model\n",
    "DT_model = DecisionTreeClassifier(random_state=0)\n",
    "\n",
    "## training!\n",
    "DT_model = DT_model.fit(X_train, y_train)\n",
    "\n",
    "## predict!\n",
    "y_train_pred_dt = DT_model.predict(X_train)\n",
    "y_test_pred_dt = DT_model.predict(X_test)\n",
    "\n",
    "\n",
    "########## Naive Bayes ########## \n",
    "\n",
    "## build naive_bayes model\n",
    "clf = MultinomialNB()\n",
    "\n",
    "## training!\n",
    "clf.fit(X_train, y_train)\n",
    "\n",
    "## predict!\n",
    "y_train_pred_nb = clf.predict(X_train)\n",
    "y_test_pred_nb = clf.predict(X_test)\n",
    "\n",
    "\n",
    "########## Compare accuracy ##########\n",
    "print (\"Decision Tree\")\n",
    "acc_train_dt = accuracy_score(y_true=y_train, y_pred=y_train_pred_dt)\n",
    "acc_test_dt = accuracy_score(y_true=y_test, y_pred=y_test_pred_dt)\n",
    "print('    training accuracy from Decision Tree: {}'.format(round(acc_train_dt, 2)))\n",
    "print('    testing accuracy from Decision Tree: {}'.format(round(acc_test_dt, 2)))\n",
    "print ()\n",
    "print(classification_report(y_true=y_test, y_pred=y_test_pred_dt))\n",
    "\n",
    "\n",
    "print (\"Naive Bayes (Answer for this execise)\")\n",
    "acc_train_nb = accuracy_score(y_true=y_train, y_pred=y_train_pred_nb)\n",
    "acc_test_nb = accuracy_score(y_true=y_test, y_pred=y_test_pred_nb)\n",
    "print('    training accuracy from Naive Bayes: {}'.format(round(acc_train_nb, 2)))\n",
    "print('    testing accuracy from Naive Bayes: {}'.format(round(acc_test_nb, 2)))\n",
    "print ()\n",
    "\n",
    "print(classification_report(y_true=y_test, y_pred=y_test_pred_nb))\n",
    "# cm = confusion_matrix(y_true=y_test, y_pred=y_test_pred2) \n",
    "# plot_confusion_matrix(cm, classes=my_tags, title='Confusion matrix from Naive Bayes')"
   ]
  },
  {
   "cell_type": "markdown",
   "metadata": {},
   "source": [
    "---\n",
    "## >>> Exercise 5  \n",
    "\n",
    "How do the results from the Naive Bayes model and the Decision Tree model compare? How do you interpret these differences? Use the theoretical background covered in class to try and explain these differences."
   ]
  },
  {
   "cell_type": "markdown",
   "metadata": {},
   "source": [
    "_## Answer here\n",
    "\n",
    "'''\n",
    "\n",
    "training accuracy from Decision Tree: 0.99 <br>\n",
    "testing accuracy from Decision Tree: 0.66 <br>\n",
    "training accuracy from Naive Bayes: 0.79 <br>\n",
    "testing accuracy from Naive Bayes: 0.7 <br>\n",
    "\n",
    "According to the accuracies, <br>\n",
    "**Decision Tree** has the higher training accuracy (0.99) than **Naive Bayes** does (0.79). <br>\n",
    "While **Decision Tree** has the lower testing accuracy (0.66) than **Naive Bayes** does (0.7). <br>\n",
    "\n",
    "This is because Decision Tree tends to overfit the data, <br>\n",
    "    creating over-complex trees that do not generalise the testing data well.<br>\n",
    "Therefore, although it fits perfectly on training data, <br>\n",
    "    the rule it learns is too specific to training data and doesn't necessarily fit the testing data.<br>\n",
    "    \n",
    "'''"
   ]
  },
  {
   "cell_type": "markdown",
   "metadata": {},
   "source": [
    "---\n",
    "## >>> Exercise 6 \n",
    "\n",
    "Plot the Training and Validation Accuracy and Loss (different plots), just like the images below (Note: the pictures below are an example from a different model). How to interpret the graphs you got? How are they related to the concept of overfitting/underfitting covered in class?\n"
   ]
  },
  {
   "cell_type": "code",
   "execution_count": 5,
   "metadata": {},
   "outputs": [
    {
     "data": {
      "image/png": "[encoded data removed]",
      "text/plain": [
       "<Figure size 432x288 with 1 Axes>"
      ]
     },
     "metadata": {
      "needs_background": "light"
     },
     "output_type": "display_data"
    },
    {
     "data": {
      "image/png": "[encoded data removed]",
      "text/plain": [
       "<Figure size 432x288 with 1 Axes>"
      ]
     },
     "metadata": {
      "needs_background": "light"
     },
     "output_type": "display_data"
    }
   ],
   "source": [
    "# Answer here\n",
    "\n",
    "import numpy as np\n",
    "from scipy.interpolate import make_interp_spline\n",
    "import matplotlib.pyplot as plt\n",
    " \n",
    "#Let's take a look at the training log\n",
    "training_log = pd.DataFrame()\n",
    "training_log = pd.read_csv(\"logs/training_log.csv\")\n",
    "training_log\n",
    "    \n",
    "    \n",
    "x = np.arange(training_log.shape[0])\n",
    "y_acc = training_log[['acc']]\n",
    "y_vacc = training_log[['val_acc']]\n",
    "y_loss = training_log[['loss']]\n",
    "y_vloss = training_log[['val_loss']]\n",
    "    \n",
    "X_Y_Spline_acc = make_interp_spline(x, y_acc)\n",
    "X_Y_Spline_vacc = make_interp_spline(x, y_vacc)\n",
    "X_Y_Spline_loss = make_interp_spline(x, y_loss)\n",
    "X_Y_Spline_vloss = make_interp_spline(x, y_vloss)\n",
    "\n",
    "\n",
    "# Returns evenly spaced numbers over a specified interval.\n",
    "X_ = np.linspace(x.min(), x.max(), 500)\n",
    "Y_acc = X_Y_Spline_acc(X_)\n",
    "Y_vacc = X_Y_Spline_vacc(X_)\n",
    "Y_loss = X_Y_Spline_loss(X_)\n",
    "Y_vloss = X_Y_Spline_vloss(X_)\n",
    "\n",
    "\n",
    "# Plotting the Graph for Accuracy\n",
    "plt.plot(X_, Y_acc, 'b', label='Train accuracy')\n",
    "plt.plot(X_, Y_vacc, 'r', label='Val accuracy')\n",
    "plt.title(\"Training Accuracy per epoch\")\n",
    "plt.legend()\n",
    "plt.xlabel(\"Epochs\")\n",
    "plt.ylabel(\"Accuracy\")\n",
    "plt.show()\n",
    "\n",
    "\n",
    "# Plotting the Graph for Loss\n",
    "plt.plot(X_, Y_loss, 'b', label='Train loss')\n",
    "plt.plot(X_, Y_vloss, 'r', label='Val loss')\n",
    "plt.title(\"Training Loss per epoch\")\n",
    "plt.legend()\n",
    "plt.xlabel(\"Epochs\")\n",
    "plt.ylabel(\"Loss\")\n",
    "plt.show()\n"
   ]
  },
  {
   "cell_type": "markdown",
   "metadata": {},
   "source": [
    "###  How are they related to the concept of overfitting/underfitting covered in class?\n",
    "\n",
    "'''\n",
    "At the very begining of the training process, \n",
    "the training accuracy is smaller than validation accuracy. \n",
    "This is \"underfitting\". The model has not learned the rule from training set yet.\n",
    "\n",
    "Afterwards, the model gradually learns the rule from the training dataset, \n",
    "it adjusts its parameters according to the training data along the iteration(epoch).\n",
    "\n",
    "So the model fits the training set better when the epoch increases, \n",
    "and the accuracy gets higher, the loss gets lower .\n",
    "\n",
    "However, if the model captures the rule for training set too perfectly, \n",
    "the model may encounter \"overfitting\".\n",
    "\n",
    "The rule is not general enough to fit the validation set, \n",
    "which the model has never seen during training.\n",
    "\n",
    "Therefore, when the model is trained too many times, \n",
    "it gets less likely to fit the validation set.\n",
    "\n",
    "And the validation loss thus getting bigger along the epoch.\n",
    "'''"
   ]
  },
  {
   "cell_type": "markdown",
   "metadata": {},
   "source": [
    "---\n",
    "## >>> Exercise 7\n",
    "\n",
    "Now, we have the word vectors, but our input data is a sequence of words (or say sentence). \n",
    "How can we utilize these \"word\" vectors to represent the sentence data and train our model?"
   ]
  },
  {
   "cell_type": "markdown",
   "metadata": {},
   "source": [
    "### train wowrd2vec model"
   ]
  },
  {
   "cell_type": "code",
   "execution_count": 12,
   "metadata": {},
   "outputs": [],
   "source": [
    "from gensim.models import Word2Vec\n",
    "\n",
    "## the input type\n",
    "train_df['text_tokenized'] = train_df['text'].apply(lambda x: nltk.word_tokenize(x))\n",
    "\n",
    "## preparing data\n",
    "training_corpus = train_df['text_tokenized'].values\n",
    "\n",
    "## setting\n",
    "vector_dim = 100\n",
    "window_size = 5\n",
    "min_count = 1\n",
    "training_iter = 20\n",
    "\n",
    "## model\n",
    "word2vec_model = Word2Vec(sentences=training_corpus, \n",
    "                          vector_size=vector_dim, window=window_size, \n",
    "                          min_count=min_count, epochs=training_iter)"
   ]
  },
  {
   "cell_type": "markdown",
   "metadata": {},
   "source": [
    "### get TF-IDF value for words in each document (only words with top 1000 values)"
   ]
  },
  {
   "cell_type": "code",
   "execution_count": 56,
   "metadata": {},
   "outputs": [
    {
     "name": "stdout",
     "output_type": "stream",
     "text": [
      "(3613, 1000)\n"
     ]
    }
   ],
   "source": [
    "from scipy.sparse.csr import csr_matrix #need this if you want to save tfidf_matrix\n",
    "\n",
    "tf_idf = TfidfVectorizer(max_features=1000, tokenizer=nltk.word_tokenize)\n",
    "tfidf_matrix =  tf_idf.fit_transform(train_df['text'])\n",
    "feature_names = tf_idf.get_feature_names()\n",
    "print (tfidf_matrix.shape)\n"
   ]
  },
  {
   "cell_type": "markdown",
   "metadata": {},
   "source": [
    "### sum up : word vectors weighted with their TF-IDF value, for each document"
   ]
  },
  {
   "cell_type": "code",
   "execution_count": 57,
   "metadata": {},
   "outputs": [],
   "source": [
    "doc_vec = []\n",
    "doc = 0\n",
    "for doc in range(tfidf_matrix.shape[0]):\n",
    "    temp_vec = 0\n",
    "    feature_index = tfidf_matrix[doc,:].nonzero()[1]\n",
    "    tfidf_scores = zip(feature_index, [tfidf_matrix[doc, x] for x in feature_index])\n",
    "    for word_ind, score in tfidf_scores:\n",
    "        word = feature_names[word_ind]\n",
    "        try:\n",
    "            temp_vec += word2vec_model.wv[word] * score\n",
    "        except:\n",
    "            continue\n",
    "    doc_vec.append(temp_vec)"
   ]
  },
  {
   "cell_type": "code",
   "execution_count": 60,
   "metadata": {},
   "outputs": [
    {
     "data": {
      "text/html": [
       "<div>\n",
       "<style scoped>\n",
       "    .dataframe tbody tr th:only-of-type {\n",
       "        vertical-align: middle;\n",
       "    }\n",
       "\n",
       "    .dataframe tbody tr th {\n",
       "        vertical-align: top;\n",
       "    }\n",
       "\n",
       "    .dataframe thead th {\n",
       "        text-align: right;\n",
       "    }\n",
       "</style>\n",
       "<table border=\"1\" class=\"dataframe\">\n",
       "  <thead>\n",
       "    <tr style=\"text-align: right;\">\n",
       "      <th></th>\n",
       "      <th>id</th>\n",
       "      <th>text</th>\n",
       "      <th>emotion</th>\n",
       "      <th>intensity</th>\n",
       "      <th>text_tokenized</th>\n",
       "      <th>doc_vecter</th>\n",
       "    </tr>\n",
       "  </thead>\n",
       "  <tbody>\n",
       "    <tr>\n",
       "      <th>3476</th>\n",
       "      <td>40649</td>\n",
       "      <td>Blessed are those who mourn, for they will be ...</td>\n",
       "      <td>sadness</td>\n",
       "      <td>0.312</td>\n",
       "      <td>[Blessed, are, those, who, mourn, ,, for, they...</td>\n",
       "      <td>[-1.0705876, 1.7191819, 0.22491114, 0.19718778...</td>\n",
       "    </tr>\n",
       "    <tr>\n",
       "      <th>935</th>\n",
       "      <td>20078</td>\n",
       "      <td>@RossKemp Omg that is just horrific. Something...</td>\n",
       "      <td>fear</td>\n",
       "      <td>0.820</td>\n",
       "      <td>[@, RossKemp, Omg, that, is, just, horrific, ....</td>\n",
       "      <td>[-0.9061578, 1.6383387, 0.25957584, 0.05776849...</td>\n",
       "    </tr>\n",
       "    <tr>\n",
       "      <th>3555</th>\n",
       "      <td>40728</td>\n",
       "      <td>now playing yung fav song ni chavs #sober 😂</td>\n",
       "      <td>sadness</td>\n",
       "      <td>0.229</td>\n",
       "      <td>[now, playing, yung, fav, song, ni, chavs, #, ...</td>\n",
       "      <td>[-0.3728108, 0.778466, -0.2283778, 0.57383716,...</td>\n",
       "    </tr>\n",
       "  </tbody>\n",
       "</table>\n",
       "</div>"
      ],
      "text/plain": [
       "         id                                               text  emotion  \\\n",
       "3476  40649  Blessed are those who mourn, for they will be ...  sadness   \n",
       "935   20078  @RossKemp Omg that is just horrific. Something...     fear   \n",
       "3555  40728        now playing yung fav song ni chavs #sober 😂  sadness   \n",
       "\n",
       "      intensity                                     text_tokenized  \\\n",
       "3476      0.312  [Blessed, are, those, who, mourn, ,, for, they...   \n",
       "935       0.820  [@, RossKemp, Omg, that, is, just, horrific, ....   \n",
       "3555      0.229  [now, playing, yung, fav, song, ni, chavs, #, ...   \n",
       "\n",
       "                                             doc_vecter  \n",
       "3476  [-1.0705876, 1.7191819, 0.22491114, 0.19718778...  \n",
       "935   [-0.9061578, 1.6383387, 0.25957584, 0.05776849...  \n",
       "3555  [-0.3728108, 0.778466, -0.2283778, 0.57383716,...  "
      ]
     },
     "execution_count": 60,
     "metadata": {},
     "output_type": "execute_result"
    }
   ],
   "source": [
    "train_df['doc_vecter'] = doc_vec\n",
    "train_df.head(3)"
   ]
  },
  {
   "cell_type": "markdown",
   "metadata": {},
   "source": [
    "### Reasons to do so:\n",
    "\n",
    "Sentences are composed of words, and different words have different importance.<br>\n",
    "One way to measure the importance of words is TF-IDF. <br>\n",
    "Generally speaking important words are more representative for an entence.<br>\n",
    "Therefore, words with bigger TF-IDF should weight more in a sentence vector.<br>"
   ]
  },
  {
   "cell_type": "markdown",
   "metadata": {},
   "source": [
    "---\n",
    "## >>> Exercise 8 \n",
    "\n",
    "Generate a t-SNE visualization to show the 15 words most related to the words \"angry\", \"happy\", \"sad\", \"fear\" (60 words total)."
   ]
  },
  {
   "cell_type": "code",
   "execution_count": 68,
   "metadata": {},
   "outputs": [],
   "source": [
    "import gensim.downloader as api\n",
    "\n",
    "## If you see `SSL: CERTIFICATE_VERIFY_FAILED` error, use this:\n",
    "import ssl\n",
    "import urllib.request\n",
    "ssl._create_default_https_context = ssl._create_unverified_context\n",
    "\n",
    "glove_twitter_25_model = api.load(\"glove-twitter-25\")\n",
    "print('load ok')"
   ]
  },
  {
   "cell_type": "code",
   "execution_count": 67,
   "metadata": {},
   "outputs": [
    {
     "name": "stdout",
     "output_type": "stream",
     "text": [
      "happy_words:  ['happy', 'birthday', 'thank', 'welcome', 'love', 'miss', 'hello', 'thanks', 'merry', 'bless', 'wish', 'day', 'dear', 'morning', 'good', 'dream']\n",
      "angry_words:  ['angry', 'stupid', 'hate', 'annoying', 'weird', 'like', 'confused', 'fucking', 'people', 'dislike', 'awkward', 'reason', 'because', 'scary', 'seriously', 'retarded']\n",
      "data_words:  ['data', 'mobile', 'software', 'search', 'survey', 'web', 'server', 'marketing', 'file', 'system', 'google', 'resume', 'unit', 'network', 'panel', 'manual']\n",
      "mining_words:  ['mining', 'offshore', 'manufacturing', 'pharma', 'agricultural', 'agriculture', 'housing', 'petroleum', 'pipeline', 'infrastructure', 'aviation', 'export', 'biotech', 'pharmaceutical', 'coal', 'telecoms']\n"
     ]
    }
   ],
   "source": [
    "word_list = ['angry', 'happy', 'sad', 'fear']\n",
    "\n",
    "topn = 15\n",
    "happy_words = ['happy'] + [word_ for word_, sim_ in glove_twitter_25_model.most_similar('happy', topn=topn)]\n",
    "angry_words = ['angry'] + [word_ for word_, sim_ in glove_twitter_25_model.most_similar('angry', topn=topn)]        \n",
    "data_words = ['data'] + [word_ for word_, sim_ in glove_twitter_25_model.most_similar('data', topn=topn)]        \n",
    "mining_words = ['mining'] + [word_ for word_, sim_ in glove_twitter_25_model.most_similar('mining', topn=topn)]        \n",
    "\n",
    "print('happy_words: ', happy_words)\n",
    "print('angry_words: ', angry_words)\n",
    "print('data_words: ', data_words)\n",
    "print('mining_words: ', mining_words)\n",
    "\n",
    "target_words = happy_words + angry_words + data_words + mining_words\n",
    "# print('\\ntarget words: ')\n",
    "# print(target_words)\n",
    "\n",
    "# print('\\ncolor list:')\n",
    "cn = topn + 1\n",
    "color = ['b'] * cn + ['g'] * cn + ['r'] * cn + ['y'] * cn\n",
    "# print(color)"
   ]
  },
  {
   "cell_type": "code",
   "execution_count": 76,
   "metadata": {},
   "outputs": [
    {
     "data": {
      "image/png": "[encoded data removed]",
      "text/plain": [
       "<Figure size 862.5x862.5 with 1 Axes>"
      ]
     },
     "metadata": {
      "needs_background": "light"
     },
     "output_type": "display_data"
    }
   ],
   "source": [
    "%matplotlib inline\n",
    "import matplotlib.pyplot as plt\n",
    "from sklearn.manifold import TSNE\n",
    "\n",
    "## w2v model\n",
    "model = glove_twitter_25_model\n",
    "\n",
    "## prepare training word vectors\n",
    "size = 200\n",
    "target_size = len(target_words)\n",
    "# all_word = list(model.vocab.keys())\n",
    "all_word = list(model.key_to_index)\n",
    "word_train = target_words + all_word[:size]\n",
    "X_train = model[word_train]\n",
    "\n",
    "## t-SNE model\n",
    "tsne = TSNE(n_components=2, metric='cosine', random_state=28)\n",
    "\n",
    "## training\n",
    "X_tsne = tsne.fit_transform(X_train)\n",
    "\n",
    "# plot the result\n",
    "plt.figure(figsize=(7.5, 7.5), dpi=115)\n",
    "plt.scatter(X_tsne[:target_size, 0], X_tsne[:target_size, 1], c=color)\n",
    "for label, x, y in zip(target_words, X_tsne[:target_size, 0], X_tsne[:target_size, 1]):\n",
    "    plt.annotate(label, xy=(x,y), xytext=(3,0),  textcoords='offset points', fontsize=5)\n",
    "plt.show()"
   ]
  },
  {
   "cell_type": "code",
   "execution_count": null,
   "metadata": {},
   "outputs": [],
   "source": []
  },
  {
   "cell_type": "code",
   "execution_count": null,
   "metadata": {},
   "outputs": [],
   "source": []
  },
  {
   "cell_type": "code",
   "execution_count": null,
   "metadata": {},
   "outputs": [],
   "source": []
  },
  {
   "cell_type": "code",
   "execution_count": null,
   "metadata": {},
   "outputs": [],
   "source": []
  },
  {
   "cell_type": "code",
   "execution_count": null,
   "metadata": {},
   "outputs": [],
   "source": []
  },
  {
   "cell_type": "code",
   "execution_count": null,
   "metadata": {},
   "outputs": [],
   "source": []
  },
  {
   "cell_type": "code",
   "execution_count": null,
   "metadata": {},
   "outputs": [],
   "source": []
  },
  {
   "cell_type": "code",
   "execution_count": null,
   "metadata": {},
   "outputs": [],
   "source": []
  }
 ],
 "metadata": {
  "kernelspec": {
   "display_name": "Python 3",
   "language": "python",
   "name": "python3"
  },
  "language_info": {
   "codemirror_mode": {
    "name": "ipython",
    "version": 3
   },
   "file_extension": ".py",
   "mimetype": "text/x-python",
   "name": "python",
   "nbconvert_exporter": "python",
   "pygments_lexer": "ipython3",
   "version": "3.6.9"
  },
  "varInspector": {
   "cols": {
    "lenName": 16,
    "lenType": 16,
    "lenVar": 40
   },
   "kernels_config": {
    "python": {
     "delete_cmd_postfix": "",
     "delete_cmd_prefix": "del ",
     "library": "var_list.py",
     "varRefreshCmd": "print(var_dic_list())"
    },
    "r": {
     "delete_cmd_postfix": ") ",
     "delete_cmd_prefix": "rm(",
     "library": "var_list.r",
     "varRefreshCmd": "cat(var_dic_list()) "
    }
   },
   "types_to_exclude": [
    "module",
    "function",
    "builtin_function_or_method",
    "instance",
    "_Feature"
   ],
   "window_display": false
  }
 },
 "nbformat": 4,
 "nbformat_minor": 2
}
